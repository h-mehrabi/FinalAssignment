{
 "cells": [
  {
   "cell_type": "markdown",
   "id": "5d4ff087-1e13-4fb5-9fae-91dcb685669b",
   "metadata": {},
   "source": [
    "# My Jupyter Notebook on IBM Watson Studio"
   ]
  },
  {
   "cell_type": "markdown",
   "id": "6fcb8a77-43b9-4959-aadf-a0d29d31bb54",
   "metadata": {},
   "source": [
    "**Hossein Mehrabi**\n",
    "\n",
    "Engineer\n"
   ]
  },
  {
   "cell_type": "markdown",
   "id": "0292f608-0421-46fb-b73a-edbfe92924e0",
   "metadata": {},
   "source": [
    "_I am interested in data science because it is practical_"
   ]
  },
  {
   "cell_type": "markdown",
   "id": "245b4461-6731-45a5-b678-a29b4e7b3091",
   "metadata": {},
   "source": [
    "### My code will print \"Hello World\""
   ]
  },
  {
   "cell_type": "code",
   "execution_count": 2,
   "id": "fe3c97f2-752d-43ab-80d2-d2fc17e0de35",
   "metadata": {},
   "outputs": [
    {
     "name": "stdout",
     "output_type": "stream",
     "text": [
      "Hello World\n"
     ]
    }
   ],
   "source": [
    "print (\"Hello World\")"
   ]
  },
  {
   "cell_type": "markdown",
   "id": "727b523d-22bf-43e2-b913-0247eb0459e1",
   "metadata": {},
   "source": [
    "### this is a numbered list\n",
    "1. number one\n",
    "2. number two\n",
    "3. number three\n",
    "\n",
    "### this is a bulleted list\n",
    "* number one\n",
    "+ number two\n",
    "- number three\n",
    "\n",
    "### this is a hyperlink\n",
    "[go to google](https://www.google.com)\n",
    "\n",
    "### this is a code/syntax highlighting\n",
    "it's a `code` that `highlighted` by me.\n",
    "\n",
    "### this is a table\n",
    "one | two | three\n",
    "--- | --- | ---\n",
    "1 | 2 | 3"
   ]
  },
  {
   "cell_type": "code",
   "execution_count": null,
   "id": "0824fa24-4e29-4d00-86b2-89ad8069c333",
   "metadata": {},
   "outputs": [],
   "source": []
  }
 ],
 "metadata": {
  "kernelspec": {
   "display_name": "Python",
   "language": "python",
   "name": "conda-env-python-py"
  },
  "language_info": {
   "codemirror_mode": {
    "name": "ipython",
    "version": 3
   },
   "file_extension": ".py",
   "mimetype": "text/x-python",
   "name": "python",
   "nbconvert_exporter": "python",
   "pygments_lexer": "ipython3",
   "version": "3.7.12"
  }
 },
 "nbformat": 4,
 "nbformat_minor": 5
}
